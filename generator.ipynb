{
 "cells": [
  {
   "cell_type": "code",
   "execution_count": 1,
   "metadata": {},
   "outputs": [],
   "source": [
    "from PIL import Image, ImageDraw, ImageFont\n",
    "import pandas as pd"
   ]
  },
  {
   "cell_type": "code",
   "execution_count": 26,
   "metadata": {},
   "outputs": [],
   "source": [
    "def coupons(name: list,certificate: str):\n",
    "    i=-1\n",
    "    for name in name:\n",
    "        i=i+1\n",
    "        # Sets the y-coordinate of the text\n",
    "        text_y_position = 495\n",
    "\n",
    "        # opens the image\n",
    "        img = Image.open('ISGT Certi 2022-01.png', mode ='r')\n",
    "        \n",
    "        # gets the image width\n",
    "        image_width = img.width\n",
    "        \n",
    "        # gets the image height\n",
    "        image_height = img.height\n",
    "        #print(image_height)\n",
    "        #print(image_width) \n",
    "\n",
    "        # creates a drawing canvas overlay \n",
    "        # on top of the image\n",
    "        draw = ImageDraw.Draw(img)\n",
    "\n",
    "        # gets the font object from the \n",
    "        # font file (TTF)\n",
    "        font = ImageFont.truetype(\n",
    "            'Allura-Regular.ttf',\n",
    "            55 # change this according to your needs\n",
    "        )\n",
    "\n",
    "        # fetches the text width for \n",
    "        # calculations later on\n",
    "        text_width, _ = draw.textsize(name)\n",
    "\n",
    "        draw.text(\n",
    "            (\n",
    "                # this calculation is done \n",
    "                # to centre the image\n",
    "                1.70*((image_width - text_width)/4),\n",
    "                #((image_width - text_width)/4) + 175,\n",
    "                #((image_width - text_width) /4) + 55,\n",
    "                text_y_position + 35\n",
    "            ),\n",
    "            name,\n",
    "            fill=\"#000\",\n",
    "            font = font\n",
    "            )\n",
    "        \"\"\"\n",
    "        text_width_2,_ = draw.textsize(\"Big Data Handling: Excel + SQL\")\n",
    "        draw.text(\n",
    "            (\n",
    "                # this calculation is done \n",
    "                # to centre the image\n",
    "                #3*((image_width - text_width_2) / 4) - 515,\n",
    "                3*((image_width - text_width_2) / 4) - 580,\n",
    "                text_y_position+195\n",
    "            ),\n",
    "            'Big Data Handling: Excel + SQL',\n",
    "            fill=\"#000\",\n",
    "            font = font\n",
    "            )\n",
    "        \"\"\"\n",
    "        # saves the image in png format\n",
    "        \"\"\"\n",
    "        isaa_sign = Image.open('issa_sign.jpeg')\n",
    "        gs_sign = Image.open('gsaa_sign.jpeg')\n",
    "        back_im = img.copy()\n",
    "        back_im.paste(gs_sign,(600, 600))\n",
    "        back_im.save(\"Temp/{}.png\".format(\"Name\"))\n",
    "        \"\"\"\n",
    "        img.save(\"Analytics_2022/{}.png\".format(name))"
   ]
  },
  {
   "cell_type": "code",
   "execution_count": 2,
   "metadata": {},
   "outputs": [],
   "source": [
    "names = pd.read_csv(\"temp.csv\")\n"
   ]
  },
  {
   "cell_type": "code",
   "execution_count": 3,
   "metadata": {},
   "outputs": [],
   "source": [
    "name=[]\n",
    "for i,row in names.iterrows():\n",
    "    name.append( str(row['name']))\n",
    "#    team_name.append(str(row['Team']))\n",
    "# path to font\n",
    "# FONT = \"/path / to / font / ITCEDSCR.ttf\"\n",
    "# path to sample certificate\n",
    "CERTIFICATE = \"ISGT Certi 2022-01.png\"\n",
    "#coupons(name,CERTIFICATE)"
   ]
  },
  {
   "cell_type": "code",
   "execution_count": 4,
   "metadata": {},
   "outputs": [
    {
     "data": {
      "text/plain": [
       "['Ashutosh Yadav',\n",
       " 'Samarth Bhatt',\n",
       " 'Md Asjad Shakil',\n",
       " 'Aryan Karkra ',\n",
       " 'Harshit Jain',\n",
       " 'Shobhit Bansal ',\n",
       " 'Yash Sharma ',\n",
       " 'Anushka',\n",
       " 'Manasvi',\n",
       " 'Chhavi Talwar',\n",
       " 'Akshat Agarwal',\n",
       " 'Aryan Chitale',\n",
       " 'Dheeraj Tokas',\n",
       " 'Archit Jain ',\n",
       " 'Vidit Jain',\n",
       " 'Riddhima Goel ',\n",
       " 'Ayushmaan Aggarwal',\n",
       " 'Sneha Tiwari',\n",
       " 'Manas Gupta',\n",
       " 'Sidhharth Garg',\n",
       " 'Sanchit Garg']"
      ]
     },
     "execution_count": 4,
     "metadata": {},
     "output_type": "execute_result"
    }
   ],
   "source": [
    "name"
   ]
  },
  {
   "cell_type": "code",
   "execution_count": 5,
   "metadata": {},
   "outputs": [
    {
     "data": {
      "text/plain": [
       "['Ashutosh Yadav',\n",
       " 'Samarth Bhatt',\n",
       " 'Md Asjad Shakil',\n",
       " 'Aryan Karkra ',\n",
       " 'Harshit Jain',\n",
       " 'Shobhit Bansal ',\n",
       " 'Yash Sharma ',\n",
       " 'Anushka',\n",
       " 'Manasvi',\n",
       " 'Chhavi Talwar',\n",
       " 'Akshat Agarwal',\n",
       " 'Aryan Chitale',\n",
       " 'Dheeraj Tokas',\n",
       " 'Archit Jain ',\n",
       " 'Vidit Jain',\n",
       " 'Riddhima Goel ',\n",
       " 'Ayushmaan Aggarwal',\n",
       " 'Sneha Tiwari',\n",
       " 'Manas Gupta',\n",
       " 'Sidhharth Garg',\n",
       " 'Sanchit Garg']"
      ]
     },
     "execution_count": 5,
     "metadata": {},
     "output_type": "execute_result"
    }
   ],
   "source": [
    "C = [ x.replace('\\t', '').replace('\\n', '') for x in name ]\n",
    "C"
   ]
  },
  {
   "cell_type": "code",
   "execution_count": 6,
   "metadata": {},
   "outputs": [],
   "source": [
    "name = C"
   ]
  },
  {
   "cell_type": "code",
   "execution_count": 7,
   "metadata": {},
   "outputs": [
    {
     "data": {
      "text/plain": [
       "['Ashutosh Yadav',\n",
       " 'Samarth Bhatt',\n",
       " 'Md Asjad Shakil',\n",
       " 'Aryan Karkra ',\n",
       " 'Harshit Jain',\n",
       " 'Shobhit Bansal ',\n",
       " 'Yash Sharma ',\n",
       " 'Anushka',\n",
       " 'Manasvi',\n",
       " 'Chhavi Talwar',\n",
       " 'Akshat Agarwal',\n",
       " 'Aryan Chitale',\n",
       " 'Dheeraj Tokas',\n",
       " 'Archit Jain ',\n",
       " 'Vidit Jain',\n",
       " 'Riddhima Goel ',\n",
       " 'Ayushmaan Aggarwal',\n",
       " 'Sneha Tiwari',\n",
       " 'Manas Gupta',\n",
       " 'Sidhharth Garg',\n",
       " 'Sanchit Garg']"
      ]
     },
     "execution_count": 7,
     "metadata": {},
     "output_type": "execute_result"
    }
   ],
   "source": [
    "name"
   ]
  },
  {
   "cell_type": "code",
   "execution_count": 27,
   "metadata": {},
   "outputs": [],
   "source": [
    "coupons(name,CERTIFICATE)"
   ]
  },
  {
   "cell_type": "code",
   "execution_count": null,
   "metadata": {},
   "outputs": [],
   "source": []
  }
 ],
 "metadata": {
  "kernelspec": {
   "display_name": "Python 3.9.6 64-bit",
   "language": "python",
   "name": "python3"
  },
  "language_info": {
   "codemirror_mode": {
    "name": "ipython",
    "version": 3
   },
   "file_extension": ".py",
   "mimetype": "text/x-python",
   "name": "python",
   "nbconvert_exporter": "python",
   "pygments_lexer": "ipython3",
   "version": "3.9.6"
  },
  "orig_nbformat": 4,
  "vscode": {
   "interpreter": {
    "hash": "b9a5d2c943d6e84fb8b832a9e4e86e6ff5301b600f5b761b4724c3966af3f906"
   }
  }
 },
 "nbformat": 4,
 "nbformat_minor": 2
}
